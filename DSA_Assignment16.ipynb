{
 "cells": [
  {
   "cell_type": "code",
   "execution_count": 2,
   "metadata": {},
   "outputs": [
    {
     "name": "stdout",
     "output_type": "stream",
     "text": [
      "[-1, 2, -1, 4, 2, 1, -1]\n"
     ]
    }
   ],
   "source": [
    "#Q1 - \n",
    "'''  \n",
    "Given an array, for each element find the value of the nearest element to the right which is having a frequency greater than that of the current element. If there does not exist an answer for a position, then make the value ‘-1’.\n",
    "Input for this question is: a[] = [1, 1, 2, 3, 4, 2, 1]\n",
    "Output for this question should be: [-1, -1, 1, 2, 2, 1, -1]\n",
    "'''\n",
    "#Answer:\n",
    "from collections import defaultdict\n",
    "\n",
    "def findNearestGreaterFrequency(arr):\n",
    "    n = len(arr)\n",
    "    stack = []\n",
    "    frequency = defaultdict(int)\n",
    "    result = [-1] * n\n",
    "\n",
    "    for i in range(n - 1, -1, -1):\n",
    "        while stack and frequency[arr[i]] >= frequency[arr[stack[-1]]]:\n",
    "            stack.pop()\n",
    "\n",
    "        if stack:\n",
    "            result[i] = arr[stack[-1]]\n",
    "\n",
    "        stack.append(i)\n",
    "        frequency[arr[i]] += 1\n",
    "\n",
    "    return result\n",
    "\n",
    "# Test the function with the given input\n",
    "arr = [1, 1, 2, 3, 4, 2, 1]\n",
    "result = findNearestGreaterFrequency(arr)\n",
    "print(result)\n",
    "\n"
   ]
  },
  {
   "cell_type": "code",
   "execution_count": 3,
   "metadata": {},
   "outputs": [
    {
     "name": "stdout",
     "output_type": "stream",
     "text": [
      "[98, 92, 34, 31, 23, 3]\n"
     ]
    }
   ],
   "source": [
    "#Q2 - \n",
    "'''   \n",
    "Given a stack of integers, sort it in ascending order using another temporary stack.\n",
    "Input for this question is : [34, 3, 31, 98, 92, 23]\n",
    "Output for this question should be : [3, 23, 31, 34, 92, 98]\n",
    "'''\n",
    "#Answer:\n",
    "def sortStack(stack):\n",
    "    temp_stack = []\n",
    "    while stack:\n",
    "        temp = stack.pop()\n",
    "        while temp_stack and temp_stack[-1] > temp:\n",
    "            stack.append(temp_stack.pop())\n",
    "        temp_stack.append(temp)\n",
    "    while temp_stack:\n",
    "        stack.append(temp_stack.pop())\n",
    "    return stack\n",
    "\n",
    "# Test the function with the given input\n",
    "stack = [34, 3, 31, 98, 92, 23]\n",
    "sorted_stack = sortStack(stack)\n",
    "print(sorted_stack)\n"
   ]
  },
  {
   "cell_type": "code",
   "execution_count": 7,
   "metadata": {},
   "outputs": [
    {
     "name": "stdout",
     "output_type": "stream",
     "text": [
      "[1, 3, 4, 5]\n"
     ]
    }
   ],
   "source": [
    "#Q3 - \n",
    "'''   \n",
    "Given a stack with **push()**, **pop()**, and **empty()** operations, The task is to delete the **middle** element ****of it without using any \n",
    "additional data structure.\n",
    "\n",
    "Input for this question is : Stack[] = [1, 2, 3, 4, 5]\n",
    "\n",
    "Output for this task should be: Stack[] = [1, 3, 4, 5]\n",
    "\n",
    "'''\n",
    "#Answer:\n",
    "def deleteMiddle(stack, index):\n",
    "    if index == 0:\n",
    "        stack.pop()\n",
    "        return\n",
    "\n",
    "    temp = stack.pop()\n",
    "    deleteMiddle(stack, index - 1)\n",
    "    stack.append(temp)\n",
    "\n",
    "def deleteMiddleElement(stack):\n",
    "    size = len(stack)\n",
    "    middle_index = size // 2 if size % 2 == 0 else (size // 2) + 1\n",
    "    deleteMiddle(stack, middle_index)\n",
    "\n",
    "# Example usage:\n",
    "stack = [1, 2, 3, 4, 5]\n",
    "deleteMiddleElement(stack)\n",
    "print(stack)\n"
   ]
  },
  {
   "cell_type": "code",
   "execution_count": 11,
   "metadata": {},
   "outputs": [
    {
     "name": "stdout",
     "output_type": "stream",
     "text": [
      "No\n"
     ]
    }
   ],
   "source": [
    "#Q4 - \n",
    "'''  \n",
    "Given a Queue consisting of first **n** natural numbers (in random order). The task is to check whether the given Queue elements can be arranged in increasing order in another Queue using a stack. The operation allowed are:\n",
    "\n",
    "1. Push and pop elements from the stack\n",
    "2. Pop (Or Dequeue) from the given Queue.\n",
    "3. Push (Or Enqueue) in the another Queue.\n",
    "\n",
    "**Examples :**\n",
    "\n",
    "Input for this question: Queue[] = { 5, 1, 2, 6, 3, 4 } \n",
    "\n",
    "Output for this question should be :No\n",
    "\n",
    "'''\n",
    "#Answer:\n",
    "def checkQueueArrangement(queue):\n",
    "    stack = []\n",
    "    resultQueue = []\n",
    "    expected = 1\n",
    "\n",
    "    while queue:\n",
    "        if queue[0] == expected:\n",
    "            resultQueue.append(queue.pop(0))\n",
    "            expected += 1\n",
    "        elif stack and stack[-1] == expected:\n",
    "            resultQueue.append(stack.pop())\n",
    "            expected += 1\n",
    "        else:\n",
    "            stack.append(queue.pop(0))\n",
    "\n",
    "    while stack:\n",
    "        if stack[-1] == expected:\n",
    "            resultQueue.append(stack.pop())\n",
    "            expected += 1\n",
    "        else:\n",
    "            return \"No\"\n",
    "\n",
    "    if not resultQueue:\n",
    "        return \"Yes\"\n",
    "    else:\n",
    "        return \"No\"\n",
    "\n",
    "# Example usage:\n",
    "queue = [5, 1, 2, 6, 3, 4]\n",
    "result = checkQueueArrangement(queue)\n",
    "print(result) \n"
   ]
  },
  {
   "cell_type": "code",
   "execution_count": 13,
   "metadata": {},
   "outputs": [
    {
     "name": "stdout",
     "output_type": "stream",
     "text": [
      "563\n"
     ]
    }
   ],
   "source": [
    "#Q5 - \n",
    "''' Given a number , write a program to reverse this number using stack.\n",
    "Input for this question is: 365\n",
    "Output for this question should be: 563'''  \n",
    "\n",
    "\n",
    "#Answer:\n",
    "def reverseNumber(num):\n",
    "    num_str = str(num)\n",
    "    stack = []\n",
    "\n",
    "    for digit in num_str:\n",
    "        stack.append(digit)\n",
    "\n",
    "    reversed_num_str = \"\"\n",
    "\n",
    "    while stack:\n",
    "        reversed_num_str += stack.pop()\n",
    "\n",
    "    reversed_num = int(reversed_num_str)\n",
    "    return reversed_num\n",
    "\n",
    "# Example usage:\n",
    "num = 365\n",
    "reversed_num = reverseNumber(num)\n",
    "print(reversed_num) \n"
   ]
  },
  {
   "cell_type": "code",
   "execution_count": 14,
   "metadata": {},
   "outputs": [
    {
     "name": "stdout",
     "output_type": "stream",
     "text": [
      "3 2 1 4 5 "
     ]
    }
   ],
   "source": [
    "#Q6 - \n",
    "'''  \n",
    "Given an integer k and a **[queue](https://www.geeksforgeeks.org/queue-data-structure/)** of integers, The task is to reverse the order of the first **k** elements of the queue, leaving the other elements in the same relative order.\n",
    "\n",
    "Only following standard operations are allowed on queue.\n",
    "\n",
    "- **enqueue(x) :** Add an item x to rear of queue\n",
    "- **dequeue() :** Remove an item from front of queue\n",
    "- **size() :** Returns number of elements in queue.\n",
    "- **front() :** Finds front item.\n",
    "'''\n",
    "\n",
    "#Answer:\n",
    "def reverseFirstKElements(queue, k):\n",
    "    if k < 0 or k > queue.size():\n",
    "        return \"Invalid k\"\n",
    "\n",
    "    stack = []\n",
    "    temp_queue = []\n",
    "\n",
    "    # Step 1: Dequeue and push the first k elements onto the stack\n",
    "    for _ in range(k):\n",
    "        stack.append(queue.dequeue())\n",
    "\n",
    "    # Step 2: Enqueue the remaining elements into the temporary queue\n",
    "    while not queue.empty():\n",
    "        temp_queue.append(queue.dequeue())\n",
    "\n",
    "    # Step 3: Enqueue the elements from the stack back into the queue\n",
    "    while stack:\n",
    "        queue.enqueue(stack.pop())\n",
    "\n",
    "    # Step 4: Enqueue the elements from the temporary queue back into the queue\n",
    "    while temp_queue:\n",
    "        queue.enqueue(temp_queue.pop(0))\n",
    "\n",
    "    return queue\n",
    "\n",
    "# Example usage:\n",
    "class Queue:\n",
    "    def __init__(self):\n",
    "        self.items = []\n",
    "\n",
    "    def enqueue(self, item):\n",
    "        self.items.append(item)\n",
    "\n",
    "    def dequeue(self):\n",
    "        if not self.empty():\n",
    "            return self.items.pop(0)\n",
    "\n",
    "    def size(self):\n",
    "        return len(self.items)\n",
    "\n",
    "    def empty(self):\n",
    "        return len(self.items) == 0\n",
    "\n",
    "    def front(self):\n",
    "        if not self.empty():\n",
    "            return self.items[0]\n",
    "\n",
    "queue = Queue()\n",
    "queue.enqueue(1)\n",
    "queue.enqueue(2)\n",
    "queue.enqueue(3)\n",
    "queue.enqueue(4)\n",
    "queue.enqueue(5)\n",
    "\n",
    "k = 3\n",
    "reversed_queue = reverseFirstKElements(queue, k)\n",
    "while not reversed_queue.empty():\n",
    "    print(reversed_queue.dequeue(), end=\" \")  # Output: 3 2 1 4 5\n"
   ]
  },
  {
   "cell_type": "code",
   "execution_count": 16,
   "metadata": {},
   "outputs": [
    {
     "name": "stdout",
     "output_type": "stream",
     "text": [
      "3\n"
     ]
    }
   ],
   "source": [
    "#Q7 - \n",
    "'''   \n",
    "Given a sequence of n strings, the task is to check if any two similar words come together and then destroy each other then print the number of \n",
    "words left in the sequence after this pairwise destruction.\n",
    "\n",
    "**Examples:**\n",
    "\n",
    "Input for this question: ab aa aa bcd ab\n",
    "\n",
    "Output for this question should be: 3\n",
    "'''\n",
    "#Answer:\n",
    "def countRemainingWords(sequence):\n",
    "    words = sequence.split()\n",
    "    stack = []\n",
    "\n",
    "    for word in words:\n",
    "        if not stack or word != stack[-1]:\n",
    "            stack.append(word)\n",
    "        else:\n",
    "            stack.pop()\n",
    "\n",
    "    return len(stack)\n",
    "\n",
    "# Example usage:\n",
    "sequence = \"ab aa aa bcd ab\"\n",
    "remaining_words = countRemainingWords(sequence)\n",
    "print(remaining_words)\n"
   ]
  },
  {
   "cell_type": "code",
   "execution_count": 18,
   "metadata": {},
   "outputs": [
    {
     "name": "stdout",
     "output_type": "stream",
     "text": [
      "1\n"
     ]
    }
   ],
   "source": [
    "#Q8 - \n",
    "'''   \n",
    "Given an array of integers, the task is to find the maximum absolute difference between the nearest left and the right smaller element of every element in the array.\n",
    "\n",
    "**Note:** If there is no smaller element on right side or left side of any element then we take zero as the smaller element. For example for the leftmost element, the nearest smaller element on the left side is considered as 0. Similarly, for rightmost elements, the smaller element on the right side is considered as 0.\n",
    "\n",
    "**Examples:**\n",
    "Input for this question is: arr[] = {2, 1, 8}\n",
    "Output for this question should be: 1\n",
    "'''\n",
    "#Answer:\n",
    "def findMaxAbsDifference(arr):\n",
    "    n = len(arr)\n",
    "    leftSmaller = [0] * n\n",
    "    rightSmaller = [0] * n\n",
    "    stack = []\n",
    "\n",
    "    # Find nearest left smaller element\n",
    "    for i in range(n):\n",
    "        while stack and stack[-1] >= arr[i]:\n",
    "            stack.pop()\n",
    "\n",
    "        if stack:\n",
    "            leftSmaller[i] = stack[-1]\n",
    "        else:\n",
    "            leftSmaller[i] = 0\n",
    "\n",
    "        stack.append(arr[i])\n",
    "\n",
    "    stack = []\n",
    "\n",
    "    # Find nearest right smaller element\n",
    "    for i in range(n-1, -1, -1):\n",
    "        while stack and stack[-1] >= arr[i]:\n",
    "            stack.pop()\n",
    "\n",
    "        if stack:\n",
    "            rightSmaller[i] = stack[-1]\n",
    "        else:\n",
    "            rightSmaller[i] = 0\n",
    "\n",
    "        stack.append(arr[i])\n",
    "\n",
    "    maxDiff = 0\n",
    "\n",
    "    # Calculate maximum absolute difference\n",
    "    for i in range(n):\n",
    "        diff = abs(leftSmaller[i] - rightSmaller[i])\n",
    "        maxDiff = max(maxDiff, diff)\n",
    "\n",
    "    return maxDiff\n",
    "\n",
    "# Example usage:\n",
    "arr = [2, 1, 8]\n",
    "maxDiff = findMaxAbsDifference(arr)\n",
    "print(maxDiff)\n"
   ]
  },
  {
   "cell_type": "code",
   "execution_count": null,
   "metadata": {},
   "outputs": [],
   "source": []
  }
 ],
 "metadata": {
  "kernelspec": {
   "display_name": "Python 3.9.6 64-bit",
   "language": "python",
   "name": "python3"
  },
  "language_info": {
   "codemirror_mode": {
    "name": "ipython",
    "version": 3
   },
   "file_extension": ".py",
   "mimetype": "text/x-python",
   "name": "python",
   "nbconvert_exporter": "python",
   "pygments_lexer": "ipython3",
   "version": "3.9.6"
  },
  "orig_nbformat": 4,
  "vscode": {
   "interpreter": {
    "hash": "31f2aee4e71d21fbe5cf8b01ff0e069b9275f58929596ceb00d14d90e3e16cd6"
   }
  }
 },
 "nbformat": 4,
 "nbformat_minor": 2
}
